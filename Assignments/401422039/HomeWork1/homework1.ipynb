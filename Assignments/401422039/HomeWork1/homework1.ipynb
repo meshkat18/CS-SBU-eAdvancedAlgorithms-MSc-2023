{
 "cells": [
  {
   "cell_type": "code",
   "execution_count": 8,
   "metadata": {},
   "outputs": [],
   "source": [
    "def multiple(num1, num2):\n",
    "    if num1 < 10 or num2 < 10:\n",
    "        return num1 * num2\n",
    "\n",
    "    # Calculate the number of digits of both numbers\n",
    "    m = max(len(str(num1)), len(str(num2)))\n",
    "    m2 = m // 2\n",
    "\n",
    "    # Divide the input numbers into 2 halves\n",
    "    high1, low1 = divmod(num1, 10**m2)\n",
    "    high2, low2 = divmod(num2, 10**m2)\n",
    "\n",
    "    # Compute the three products required by the formula\n",
    "    z0 = multiple(low1, low2)\n",
    "    z1 = multiple((low1 + high1), (low2 + high2))\n",
    "    z2 = multiple(high1, high2)\n",
    "\n",
    "    # Apply the  formula\n",
    "    return (z2*10**(m2*2)) + ((z1 - z2 - z0)*10**m2) + z0\n"
   ]
  },
  {
   "cell_type": "code",
   "execution_count": 9,
   "metadata": {},
   "outputs": [
    {
     "name": "stdout",
     "output_type": "stream",
     "text": [
      "222524777174528325\n",
      "6291888074609788389375\n",
      "62011763889334235095159117219800\n",
      "209841163764183672\n",
      "-22504911\n"
     ]
    }
   ],
   "source": [
    "print(multiple(222524777174528325,1))\n",
    "print(multiple(222524777174528325,28275))\n",
    "print(multiple(222524777174528325,278673524255224))\n",
    "print(multiple(753,278673524255224))\n",
    "print(multiple(753,-29887))"
   ]
  }
 ],
 "metadata": {
  "kernelspec": {
   "display_name": "Python 3",
   "language": "python",
   "name": "python3"
  },
  "language_info": {
   "codemirror_mode": {
    "name": "ipython",
    "version": 3
   },
   "file_extension": ".py",
   "mimetype": "text/x-python",
   "name": "python",
   "nbconvert_exporter": "python",
   "pygments_lexer": "ipython3",
   "version": "3.10.7"
  },
  "orig_nbformat": 4,
  "vscode": {
   "interpreter": {
    "hash": "4969a5014bcf19f9f9d7a4b01275b573381f8b7f02381b02833b2d0694512204"
   }
  }
 },
 "nbformat": 4,
 "nbformat_minor": 2
}
