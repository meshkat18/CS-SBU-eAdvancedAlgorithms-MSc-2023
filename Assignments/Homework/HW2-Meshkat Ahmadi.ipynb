{
 "cells": [
  {
   "cell_type": "markdown",
   "id": "a6a85bed",
   "metadata": {},
   "source": [
    "In the name of Almighty"
   ]
  },
  {
   "cell_type": "markdown",
   "id": "271a0a00",
   "metadata": {},
   "source": [
    "# HW 2\n",
    "\n",
    "## Meshkat Ahmadi"
   ]
  },
  {
   "cell_type": "markdown",
   "id": "f9629b35",
   "metadata": {},
   "source": [
    "# Q1) Two players playing with a row of N elements (v_1, v_2, .. , v_n) "
   ]
  },
  {
   "cell_type": "markdown",
   "id": "6e21a666",
   "metadata": {},
   "source": [
    "### Solution 1.1) \n",
    "\n",
    "brute-force solution to this problem is generating all possible solutions for the player 1 and pick the one with the highest score.\n",
    "We can generate all of possible solutions using a recursive function returning the paths and choose always the maximum score.\n"
   ]
  },
  {
   "cell_type": "markdown",
   "id": "593bc8bf",
   "metadata": {},
   "source": [
    "### Solution 1.2) \n",
    "\n",
    "To make it more efficient we can use a dynamic programming approach.\n",
    "We can consider 'findmax' array storying the maximum score for player 1 when when the remaining head and tails are at i and j.\n",
    "\n",
    "In this case, player 1 can choose either i or j:\n",
    "\n",
    "1) choosing i: the player 2 chooses either the element $v_{i+1}$ or $v_j$. In this case the player 1 will collect the  score of $v_i$ + min(findmax[i+2, j], findmax[i+1, j-1] )\n",
    "\n",
    "2) choosing j: the player 2 chooses either the element $v_i$ or $v_{j-1}$. In this case the player 1 will collect the  score of $v_j$ + min(findmax[i+1, j-1], findmax[i, j-2] )\n",
    "\n",
    "The player 1 has to find the max between these two options. So we can try to fill out the table n*n and the results would be at findmax(0,n-1) if we are zero-based."
   ]
  },
  {
   "cell_type": "markdown",
   "id": "6db8c08e",
   "metadata": {},
   "source": [
    "### Solution 1.3)\n",
    "\n",
    "Since we need to fill out the table n*n the time and space complexity similar to dynamic progrmming cases would be in the O($n^2$)"
   ]
  },
  {
   "cell_type": "markdown",
   "id": "9501af44",
   "metadata": {},
   "source": [
    "### Solution 1.4)"
   ]
  },
  {
   "cell_type": "code",
   "execution_count": 252,
   "id": "10c611df",
   "metadata": {},
   "outputs": [],
   "source": [
    "import numpy as np\n",
    "\n",
    "\n",
    "def find_max(Vs):\n",
    "    n = len(Vs)\n",
    "    # In this table we store solutions of the subproblems\n",
    "    table = [[0] * n for _ in range(n)]\n",
    "    path = [['']* n for _ in range(n)]\n",
    "    # Fill table using the recursive formula diagonal as i<j\n",
    "    for gap in range(n):\n",
    "        for i in range(n - gap):\n",
    "            j = i + gap\n",
    "            # if the player 1 chooses i and player 2 chooses i+1\n",
    "            s_i1 = table[i + 2][j] if (i + 2) <= j else 0\n",
    "            # if the player 1 chooses i and player 2 chooses j\n",
    "            # or if the player 1 chooses j and player 2 chooses i\n",
    "            s_i2_j1 = table[i + 1][j - 1] if (i + 1) <= (j - 1) else 0\n",
    "            # if the player 1 chooses j and player 2 chooses j-1\n",
    "            s_j2 = table[i][j - 2] if i <= (j - 2) else 0\n",
    "            \n",
    "            # calculating the max score\n",
    "            table[i][j] = max(Vs[i] + min(s_i1, s_i2_j1), Vs[j] + min(s_i2_j1,s_j2))\n",
    "            \n",
    "            if j>i:\n",
    "                # storing the path            \n",
    "                if Vs[i] + min(s_i1, s_i2_j1) > Vs[j] + min(s_i2_j1,s_j2):            \n",
    "                    # choosing i1 means player 1 chooses i and player 2 chooses i+1\n",
    "                    # i.e. another L\n",
    "                    if s_i1 < s_i2_j1:\n",
    "                        path[i][j]= path[i+2][j] + 'LR'\n",
    "                    else:\n",
    "                        # player 2 has chosen R\n",
    "                        path[i][j]= path[i+1][j-1] + 'LL'\n",
    "                else:\n",
    "                    # choosing the jth means Right\n",
    "                    if  s_i2_j1 < s_j2:\n",
    "                        # player 2 has chosen R                    \n",
    "                        path[i][j]=  path[i+1][j-1] + 'RL' \n",
    "                    else:\n",
    "                        # player 2 has chosen L\n",
    "                        path[i][j]=  path[i][j - 2]  +'RR'\n",
    "            # if i==j it means that there is only one mohreh\n",
    "            else:\n",
    "                path[i][j] = 'L'\n",
    "    return table[0][n - 1], path[0][n - 1]"
   ]
  },
  {
   "cell_type": "code",
   "execution_count": 256,
   "id": "9d0fecd3",
   "metadata": {},
   "outputs": [
    {
     "name": "stdout",
     "output_type": "stream",
     "text": [
      "(110, 'RRRL')\n"
     ]
    }
   ],
   "source": [
    "a = [ 10, 80, 90, 30]\n",
    "print(find_max(a))"
   ]
  },
  {
   "cell_type": "markdown",
   "id": "e8e5b1e9",
   "metadata": {},
   "source": [
    "# Q2) in my pdf solution"
   ]
  },
  {
   "cell_type": "markdown",
   "id": "0b61cb60",
   "metadata": {},
   "source": [
    "# Q3) M cities N roads -- Sum of all distances"
   ]
  },
  {
   "cell_type": "markdown",
   "id": "f2232672",
   "metadata": {},
   "source": [
    "### Description of solution is provided in my pdf solution"
   ]
  },
  {
   "cell_type": "code",
   "execution_count": 238,
   "id": "933b64e8",
   "metadata": {},
   "outputs": [],
   "source": [
    "def add_binary_strings(a, b):\n",
    "    '''\n",
    "        add two binary strings without converting them to mabnaye 10 :)\n",
    "    '''\n",
    "    n = max(len(a), len(b))\n",
    "    a = a.zfill(n)\n",
    "    b = b.zfill(n)\n",
    "    \n",
    "    carry = 0\n",
    "    result = []\n",
    "    \n",
    "    # begining from the end\n",
    "    for i in range(n-1, -1, -1):\n",
    "        bit_sum = int(a[i]) + int(b[i]) + carry\n",
    "        bit = bit_sum % 2\n",
    "        carry = bit_sum // 2\n",
    "        result.append(str(bit))\n",
    "\n",
    "    # if there is a carry add it\n",
    "    if carry:\n",
    "        result.append(str(carry))\n",
    "    \n",
    "    # make the order correct\n",
    "    result.reverse()\n",
    "    \n",
    "    return ''.join(result)\n",
    "\n",
    "\n",
    "def min_binary_string(a, b):\n",
    "    '''\n",
    "        compare two binary string and return the minimum\n",
    "    '''\n",
    "    n = max(len(a), len(b))\n",
    "    # make the length the same\n",
    "    a = a.zfill(n)\n",
    "    b = b.zfill(n)\n",
    "    # look for the first difference\n",
    "    for i in range(n):\n",
    "        if a[i] != b[i]:\n",
    "            return a if a[i] < b[i] else b\n",
    "\n",
    "    return a  # If both strings are equal, return either one\n"
   ]
  },
  {
   "cell_type": "code",
   "execution_count": 265,
   "id": "0efeffd2",
   "metadata": {},
   "outputs": [],
   "source": [
    "# Floyd Algorithm \n",
    "def floydw(dist):\n",
    "    '''\n",
    "    Floydwarshal algorithm\n",
    "    \n",
    "    I consulted this code : https://favtutor.com/blogs/floyd-warshall-algorithm\n",
    "    \n",
    "    '''\n",
    "    V_size = len(dist)\n",
    "    # Adding vertices individually\n",
    "    for k in range(V_size):\n",
    "        for p in range(V_size):\n",
    "            for q in range(V_size):\n",
    "                dist[p][q] = min_binary_string(dist[p][q], add_binary_strings(dist[p][k] , dist[k][q]))\n",
    "    # this returns the matrix of distances in binary string format\n",
    "    return dist\n",
    "\n",
    "def sum_min_floydw(dis):\n",
    "\n",
    "    # we only need the upper side of matrix diagonal so take this list for summation\n",
    "    final_list = list(itertools.chain(*[[c for j,c in enumerate(l) if j>i] for i,l in enumerate(floyd(dis))]))\n",
    "\n",
    "    # we add all the pairwise distances in binary\n",
    "    S = ''\n",
    "    for x in final_list:\n",
    "        S = add_binary_strings (x,S)\n",
    "\n",
    "    # remove the extra zeros\n",
    "    return S.lstrip('0')"
   ]
  },
  {
   "cell_type": "code",
   "execution_count": 235,
   "id": "9164760a",
   "metadata": {},
   "outputs": [],
   "source": [
    "import itertools\n",
    "\n",
    "\n",
    "def main():\n",
    "    num_nodes, num_edges = map(int, input(\"Enter the number of cities and number of roads: \").split())\n",
    "    \n",
    "    #(Max 2* 10^5) in binary\n",
    "    INF = '110000110101000000' \n",
    "    \n",
    "    # matrix of result firts init by max distance 2* 10^5\n",
    "    dist_mat = [[INF]*num_nodes for i in range(num_nodes)]\n",
    "    \n",
    "    # every node is connected to itself \n",
    "    for i in range(len(dist_mat)):\n",
    "        dist_mat[i][i] = '0'\n",
    "    \n",
    "    # getting the input\n",
    "    print(\"Enter the roads as 'node1 node2 distance_as_exponent_of_2':\")\n",
    "    for i in range(num_edges):\n",
    "        node1, node2, exp = map(int, input(F'Enter the road {i}: ').split())\n",
    "        # use the binary representation\n",
    "        dist_mat[node1-1][node2-1] = '1'+'0'*exp\n",
    "        dist_mat[node2-1][node1-1] = '1'+'0'*exp\n",
    "    return dist_mat"
   ]
  },
  {
   "cell_type": "code",
   "execution_count": 236,
   "id": "cbdba791",
   "metadata": {},
   "outputs": [
    {
     "name": "stdout",
     "output_type": "stream",
     "text": [
      "Enter the number of cities and number of roads: 5 6\n",
      "Enter the roads as 'node1 node2 distance_as_exponent_of_2':\n",
      "Enter the road:   01 3 5\n",
      "Enter the road:   14 5 0\n",
      "Enter the road:   22 1 3\n",
      "Enter the road:   33 2 1\n",
      "Enter the road:   44 3 4\n",
      "Enter the road:   54 2 2\n"
     ]
    }
   ],
   "source": [
    "mat = main()"
   ]
  },
  {
   "cell_type": "code",
   "execution_count": 266,
   "id": "f1a7ce2e",
   "metadata": {},
   "outputs": [
    {
     "data": {
      "text/plain": [
       "'1000100'"
      ]
     },
     "execution_count": 266,
     "metadata": {},
     "output_type": "execute_result"
    }
   ],
   "source": [
    "sum_min_dis(mat)"
   ]
  },
  {
   "cell_type": "code",
   "execution_count": null,
   "id": "0fe32caa",
   "metadata": {},
   "outputs": [],
   "source": []
  }
 ],
 "metadata": {
  "kernelspec": {
   "display_name": "Python 3 (ipykernel)",
   "language": "python",
   "name": "python3"
  },
  "language_info": {
   "codemirror_mode": {
    "name": "ipython",
    "version": 3
   },
   "file_extension": ".py",
   "mimetype": "text/x-python",
   "name": "python",
   "nbconvert_exporter": "python",
   "pygments_lexer": "ipython3",
   "version": "3.9.0"
  }
 },
 "nbformat": 4,
 "nbformat_minor": 5
}
