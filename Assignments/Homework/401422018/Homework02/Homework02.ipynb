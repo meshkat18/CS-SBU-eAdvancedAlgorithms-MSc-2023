{
  "nbformat": 4,
  "nbformat_minor": 0,
  "metadata": {
    "colab": {
      "provenance": [],
      "authorship_tag": "ABX9TyNPJRJWiPeiskEzEIGgx0zy",
      "include_colab_link": true
    },
    "kernelspec": {
      "name": "python3",
      "display_name": "Python 3"
    },
    "language_info": {
      "name": "python"
    }
  },
  "cells": [
    {
      "cell_type": "markdown",
      "metadata": {
        "id": "view-in-github",
        "colab_type": "text"
      },
      "source": [
        "<a href=\"https://colab.research.google.com/github/Mojtaba-Alehosseini/CS-SBU-eAdvancedAlgorithms-MSc-2023/blob/401422018/Homework02.ipynb\" target=\"_parent\"><img src=\"https://colab.research.google.com/assets/colab-badge.svg\" alt=\"Open In Colab\"/></a>"
      ]
    },
    {
      "cell_type": "markdown",
      "source": [
        "Mojtaba Alehosseini"
      ],
      "metadata": {
        "id": "OitM5tZ-kzNl"
      }
    },
    {
      "cell_type": "markdown",
      "source": [
        "#1\n",
        "## 1.1\n",
        "\n",
        "> To determine the maximum possible score we can achieve if we move first, we can use a brute force approach. In this approach, we iterate through all possible subsets of scores. At each step, we can either choose the first or last score from the remaining subset and remove it permanently, obtaining its score. The opponent also has the same options. After each selection, we recursively call the same function for the updated subset and store the path and score obtained. Finally, we select the subset with the maximum score and print the corresponding path. It's worth noting that when we have only two scores remaining, we simply choose the score with the higher value. This algorithm exhaustively considers all possible states and selects the subset with the highest score.\n",
        "\n",
        "## 1.2\n",
        "\n",
        "> A smart strategy to achieve an optimal solution for this problem is by using dynamic programming. The main idea is to break down the problem into smaller subproblems and then build up to the main solution. The general solution involves using a two-dimensional array to store the maximum possible score that can be obtained from each subset of the input sequence. In each cell `(i, j)` of the array, we store the maximum score that can be obtained by selecting either the first or last element from the subsequence starting at position `i` and ending at position `j`. By setting `i` to `0` and `j` to the length of the input sequence minus one, we can obtain the overall solution to the problem. Initially, we fill all cells of the two-dimensional array with zeros, and then, in a loop, we consider the scores obtained by selecting the leftmost or rightmost element and choose the optimal move using maximum value selection. It's important to note that the solution takes into account that the opponent also plays optimally. The final result obtained is an optimal score considering the optimal gameplay of both players, and even higher scores can be obtained if the opponent doesn't play optimally.\n",
        "\n",
        "## 1.3\n",
        "\n",
        "> The time complexity of the proposed algorithm is `O(n^2)` due to the two nested loops used. However, this complexity is only for calculating the maximum score and does not consider the computation of the move sequence, which requires `O(n)` time complexity.\n",
        "\n",
        "\n"
      ],
      "metadata": {
        "id": "-TYCzfagOXPC"
      }
    },
    {
      "cell_type": "code",
      "source": [
        "# Define the optimal_path_finder function\n",
        "def optimal_path_finder(input_list):\n",
        "    # Calculate the length of the input list\n",
        "    input_length = len(input_list)\n",
        "    \n",
        "    # Initialize a 2D list dp with zeros\n",
        "    dp = [[0] * input_length for _ in range(input_length)]\n",
        "    \n",
        "    # Iterate over the slots\n",
        "    for slot in range(input_length):\n",
        "        # Iterate over the range from slot to input_length\n",
        "        for j in range(slot, input_length):\n",
        "            # Calculate i\n",
        "            i = j - slot\n",
        "            \n",
        "            # Calculate x, y, and z based on the conditions\n",
        "            x = dp[i + 2][j] if (i + 2) <= j else 0\n",
        "            y = dp[i + 1][j - 1] if (i + 1) <= (j - 1) else 0\n",
        "            z = dp[i][j - 2] if i <= (j - 2) else 0\n",
        "            \n",
        "            # Calculate the maximum value for dp[i][j]\n",
        "            dp[i][j] = max(input_list[i] + min(x, y), input_list[j] + min(y, z))\n",
        "    \n",
        "    # Initialize moves as an empty string\n",
        "    moves = ''\n",
        "    i = 0\n",
        "    j = input_length - 1\n",
        "    \n",
        "    # Generate the move sequence\n",
        "    while i <= j:\n",
        "        if input_list[i] + min(dp[i + 2][j] if (i + 2) <= j else 0, dp[i + 1][j - 1] if (i + 1) <= (j - 1) else 0) > \\\n",
        "                input_list[j] + min(dp[i + 1][j - 1] if (i + 1) <= (j - 1) else 0, dp[i][j - 2] if i <= (j - 2) else 0):\n",
        "            moves += 'L'\n",
        "            i += 1\n",
        "        else:\n",
        "            moves += 'R'\n",
        "            j -= 1\n",
        "    \n",
        "    # Return the maximum score and move sequence\n",
        "    return dp[0][input_length - 1], moves\n",
        "\n",
        "# Get the input list from the user\n",
        "input_list_from_user = list(map(int, input().split()))\n",
        "\n",
        "# Call the optimal_path_finder function\n",
        "answer = optimal_path_finder(input_list_from_user)\n",
        "\n",
        "# Print the maximum score and move sequence\n",
        "print(answer[0], answer[1])\n"
      ],
      "metadata": {
        "colab": {
          "base_uri": "https://localhost:8080/"
        },
        "id": "htYirVxVOh_5",
        "outputId": "8a3a0f17-6e62-46ce-c91d-b30bebc97902"
      },
      "execution_count": 3,
      "outputs": [
        {
          "output_type": "stream",
          "name": "stdout",
          "text": [
            "10 80 90 30\n",
            "110 RRRR\n"
          ]
        }
      ]
    },
    {
      "cell_type": "markdown",
      "source": [
        "# 2\n",
        "\n",
        "> To find the solution to this problem, we only need to check at each fuel station if we have enough fuel to reach the next fuel station. If we have enough fuel, we continue on our way, and otherwise, we refuel. Since we always try to minimize the number of stops, this algorithm will provide the solution because we only refuel when we know we won't reach the next fuel station. Now, if we know that when we refuel, we can travel n kilometers and we have a list of distances between fuel stations in kilometers, we can iterate through the list and check if the first element we consider is the next fuel station and if it is less than n. If it is, we decide to refuel now, and otherwise, we subtract n from it and remove it from the beginning of the list."
      ],
      "metadata": {
        "id": "piSf3AeGP48y"
      }
    },
    {
      "cell_type": "markdown",
      "source": [
        "# 3\n",
        "\n",
        "> To solve this problem, we create an `N * N` array where the diagonal elements are initialized to 0, and the rest are initialized to infinity. Each row with `N` elements represents the distances from a city to other cities. For example, after running the algorithm, the value of `dist[0][1]` represents the distance between city 1 and city 2. To convert it to a textual format, we need to add 1 to each index because indices start from 0, but cities start from 1.\n",
        "\n",
        "> The algorithm consists of three nested loops. After each iteration, if the user has provided a distance for two cities, we take the minimum of that distance and the distance obtained from other paths. If the user has not provided a distance, we calculate it and replace the infinity value with the calculated distance. Finally, inside a loop, we sum up all the distances and print the answer in binary form."
      ],
      "metadata": {
        "id": "nOut8rXfQGfS"
      }
    },
    {
      "cell_type": "code",
      "source": [
        "# Import the sys module\n",
        "import sys\n",
        "\n",
        "# Define the min_distance function\n",
        "def min_distance(N, roads):\n",
        "    # Create a 2D list dist with all values initialized to infinity\n",
        "    dist = [[float('inf')] * N for _ in range(N)]\n",
        "    \n",
        "    # Set the diagonal elements of dist to 0\n",
        "    for i in range(N):\n",
        "        dist[i][i] = 0\n",
        "\n",
        "    # Iterate over the roads\n",
        "    for road in roads:\n",
        "        city1, city2, distance = road\n",
        "        # Update the distance between city1 and city2 with the minimum of the current value and 2 raised to the power of distance\n",
        "        dist[city1 - 1][city2 - 1] = min(dist[city1 - 1][city2 - 1], 2 ** distance)\n",
        "        # Update the distance between city2 and city1 (since it's an undirected graph)\n",
        "        dist[city2 - 1][city1 - 1] = min(dist[city2 - 1][city1 - 1], 2 ** distance)\n",
        "\n",
        "    # Perform the Floyd-Warshall algorithm to calculate the shortest distances\n",
        "    for k in range(N):\n",
        "        for i in range(N):\n",
        "            for j in range(N):\n",
        "                dist[i][j] = min(dist[i][j], dist[i][k] + dist[k][j])\n",
        "\n",
        "    # Calculate the total distance by summing all distances except the diagonal elements\n",
        "    total_distance = sum(dist[i][j] for i in range(N) for j in range(i + 1, N))\n",
        "    return total_distance\n",
        "\n",
        "\n",
        "def main():\n",
        "    # Read N and M from input\n",
        "    N, M = map(int, input().split())\n",
        "    # Create an empty list for roads\n",
        "    roads_list = []\n",
        "    # Read M lines of road data\n",
        "    for _ in range(M):\n",
        "        x, y, z = map(int, input().split())\n",
        "        roads_list.append((x, y, z))\n",
        "\n",
        "    # Calculate the total distance in decimal\n",
        "    total_distance_decimal = min_distance(N, roads_list)\n",
        "    # Print the binary representation of the total distance\n",
        "    print(bin(total_distance_decimal)[2:])\n",
        "\n",
        "\n",
        "if __name__ == '__main__':\n",
        "    main()\n"
      ],
      "metadata": {
        "colab": {
          "base_uri": "https://localhost:8080/"
        },
        "id": "hW7GAyNYkNhV",
        "outputId": "35308ae9-8455-408d-833e-e5d8f5c5220a"
      },
      "execution_count": 5,
      "outputs": [
        {
          "output_type": "stream",
          "name": "stdout",
          "text": [
            "5 6\n",
            "1 3 5\n",
            "4 5 0\n",
            "2 1 3\n",
            "3 2 1\n",
            "4 3 4\n",
            "4 2 2\n",
            "1000100\n"
          ]
        }
      ]
    },
    {
      "cell_type": "markdown",
      "source": [
        "# 4\n",
        "\n",
        "To solve this problem, we can check several conditions to determine if it is possible for the thieves to complete their thefts without getting caught. We can use if statements to check the following conditions:\n",
        "\n",
        "1. Check if the number of thieves, `N`, is greater than 2 times the guard's absence time, `G`. If so, it is not possible for more than `2N` thieves to be inside the hall during `G` minutes.\n",
        "\n",
        "2. Check if there is a thief who requires more time than the guard's absence time, `G`. If such a thief exists, it is not possible for all thieves to complete their thefts within the given time.\n",
        "\n",
        "3. Check if the maximum required time among the thieves is less than or equal to the guard's absence time, `G`, and the number of thieves is less than or equal to 2. If both conditions are satisfied, then all the thieves can complete their thefts within the guard's absence.\n",
        "\n",
        "If none of the above conditions are met, it is possible to have an order of thefts that satisfies the given conditions."
      ],
      "metadata": {
        "id": "GIPQyCKiQOFZ"
      }
    },
    {
      "cell_type": "code",
      "source": [
        "def can_steal(N, G, A):\n",
        "    # Check if the number of thieves exceeds the maximum allowed inside the hall during the guard's absence\n",
        "    if N > 2 * (G + 1):\n",
        "        return \"NO\"  # More than 2N thieves cannot be inside the hall during G minutes\n",
        "\n",
        "    # Find the maximum required time among the thieves\n",
        "    max_time = max(A)\n",
        "    \n",
        "    # Check if there is a thief who needs more time than the guard's absence\n",
        "    if max_time > G:\n",
        "        return \"NO\"  # There is a thief who needs more time than the guard's absence\n",
        "\n",
        "    # Check if all thieves can complete their thefts within the guard's absence\n",
        "    if max_time <= G and N <= 2:\n",
        "        return \"YES\"  # All thieves can complete their theft within the guard's absence\n",
        "\n",
        "    # If none of the above conditions are met, it is possible to have an order satisfying the conditions\n",
        "    return \"YES\"\n",
        "\n",
        "\n",
        "T = int(input())  # Read the number of test cases\n",
        "result_list = []  # List to store the results of each test case\n",
        "\n",
        "# Process each test case\n",
        "for _ in range(T):\n",
        "    N, G = map(int, input().split())  # Read the number of thieves and the guard's absence time\n",
        "    A = list(map(int, input().split()))  # Read the required times for each thief\n",
        "    result = can_steal(N, G, A)  # Check if the thefts can be completed without getting caught\n",
        "    result_list.append(result)  # Store the result for the current test case\n",
        "\n",
        "# Print the results for each test case\n",
        "for result in result_list:\n",
        "    print(result)\n"
      ],
      "metadata": {
        "colab": {
          "base_uri": "https://localhost:8080/"
        },
        "id": "_Oequ7chkb21",
        "outputId": "442a0dd0-63e9-427c-e14f-dfff831fe569"
      },
      "execution_count": 4,
      "outputs": [
        {
          "output_type": "stream",
          "name": "stdout",
          "text": [
            "2\n",
            "3 4\n",
            "2 4 2\n",
            "3 2\n",
            "2 4 2\n",
            "YES\n",
            "NO\n"
          ]
        }
      ]
    }
  ]
}
