{
 "cells": [
  {
   "cell_type": "markdown",
   "id": "62ddde2c",
   "metadata": {
    "direction": "rtl"
   },
   "source": [
    "نام نام خانوادگی: کیوان خوجم لی\n",
    "نام درس : الگوریتم های پیشرفته\n",
    "شماره دانشجویی : 401422079\n",
    "\n",
    "تمرین 2"
   ]
  },
  {
   "cell_type": "markdown",
   "id": "bca60938",
   "metadata": {
    "direction": "rtl"
   },
   "source": [
    "# 1\n",
    "\n",
    "### 1.1\n",
    "رویکرد غیر هوشمندانه برای حل مسعله اینطوری است که تمام حالات ممکن برای بازی را پیدا میکنیم و برای پیدا کردن تمام حالات اینطوری است که در هر مرحله مسیر به دو مسیر جدید میرود باتوجه به انتخاب از راست یا چپ. اینگونه میشود که حالات در تایم نمایی حاصل میشود. وبعد ماکس مسیر های به دست امده را به دست می اوریم.\n",
    "\n",
    "### 1.2"
   ]
  },
  {
   "cell_type": "markdown",
   "id": "773eefd4",
   "metadata": {
    "direction": "rtl"
   },
   "source": [
    "# 2\n",
    "1 باک در مبدا پر میشود\n",
    "2 در n کیلومتر روبرو از نقطه ایی که هستیم نگاه میکنیم آخرین جایگاه پمپ بنزین کجاست\n",
    "3 در آخرین جایگاه که پیدا کردیم می ایستیم و باک را پر میکنیم\n",
    "3اگر در n کیلومتر آینده شهر پایانی نبود از مرحله دو دوباره ادامه میدیم\n",
    "\n",
    "### 2.1\n",
    "اگر در نقطه p باشیم و شهر x اول می آید وسپس y بیاید وضعیت های مختلفی پیش می آد که بررسی میکنیم\n",
    "البته واضح است میتوان با بنزینی که در p داریم تا y را حداقل برویم ولی به مقصد نمیرسیم.\n",
    "\n",
    "شرایط اول: فرض کنید در x بنزین بزنید و فاصله x تا مقصد n+1 کیلومتر باشد آنگاه مجبور میشویم جداقل در یک جای دیگر بایستیم  که اگر در y بنزین میزدیم آنگاه لازم نبود دوبار با ایستیم که در این شرایط بنزین زدن در y حتی بهتر هم هست.\n",
    "\n",
    "شرایظ دوم: فرض کنید در x بنزین بزنید و فاصله آن تا مقصد n+b باشد و b کوچکتر از n است و فاصله y تا مقصد نیز یک عددی بزرگتر از n است در این صورت نیز بنزین زدن در هر دو شهر باعث میشود دوبار بنزین بزنیم.\n",
    "\n",
    "شرایط سوم : فاصله X تا مقصد کمتر از n است وواضحا y به مقصد نزدیک تر است که در صورت بنزین زدن در هر کدام از نقاط مارا به مقصد میرساند ونیاز به بنزین زدن اضافه نیست\n",
    "### 2.2\n",
    "با توجه به 2.1 مشخص است هر چه مسافت بیشتر رو بتوانیم طی کنیم واز اخرین پمپ بنزین ها استفاده کنیم باعث میشود دفعات کمتری را برای بنزین زدن با ایستیم والگوریتم حریصانه اینطوری است که میخواهد تا میتوانیم مسافت بیشتری که میتوانیم برویم را برویم پس قابل توجیه است که از الگوریتم حریصانه استفاده کنیم. \n"
   ]
  },
  {
   "cell_type": "markdown",
   "id": "15e9afb6",
   "metadata": {
    "direction": "rtl"
   },
   "source": [
    "# 3\n",
    "برای حل این مسعله از الگوریتم دایجسترا کمک میگیریم ابتدا تمام مسیر های مینیموم را بین هر دو شهر را با الگوریتم دایجسترا پیدا میکنیم و سپس باهم جمع میکنیم.\n",
    "\n",
    "الگوریتم دایچسترا در واقع کوتاه ترین مسیر بین دو نود در یک گراف وزن دار را به ما میدهد ما فقط با کمی ادیت وزن مسیر حاصل را با تابع دایجسترا برمیگردانیم. این الگوریتم برای گراف های وزن دار با وزن منفی درست کار نمیکند. در این الگوریتم، ابتدا فاصله را برای همه رئوس گراف تنظیم می‌کنیم و سپس با به روزرسانی فاصلها، کوتاهترین مسیرها را محاسبه م کنیم. الگوریتم به صورت تکراری اجرا می‌شود تا بهترین نتیجه را بدست آورد. با استفاده از الگوریتم دایجسترا می توانید کوتاهترین مسیرها را در یک گراف مشخص کنید.\n",
    "الگوریتم دایچسترا در اردر زیر کوتاهترین مسیر را به دست میاورد:"
   ]
  },
  {
   "cell_type": "markdown",
   "id": "f8b38577",
   "metadata": {},
   "source": [
    "O(|E|+|v|log|V|)"
   ]
  },
  {
   "cell_type": "code",
   "execution_count": 219,
   "id": "24b7134d",
   "metadata": {},
   "outputs": [
    {
     "name": "stdout",
     "output_type": "stream",
     "text": [
      "5 6\n",
      "1 3 5\n",
      "4 5 0\n",
      "2 1 3\n",
      "3 2 1\n",
      "4 3 4\n",
      "4 2 2\n",
      "1000100\n"
     ]
    }
   ],
   "source": [
    "from collections import defaultdict\n",
    "#this class for define a graph and edges.\n",
    "class Graph():\n",
    "    def __init__(self):\n",
    "        self.edges = defaultdict(list)\n",
    "        self.weights = {}\n",
    "    def addEdge(self, fromVerex, toVertex, weight):\n",
    "        self.edges[fromVerex].append(toVertex)\n",
    "        self.edges[toVertex].append(fromVerex)\n",
    "        self.weights[(fromVerex, toVertex)] = weight\n",
    "        self.weights[(toVertex, fromVerex)] = weight\n",
    "    \n",
    "# this function is the dijkstra algorithm and return the shortest path between two node\n",
    "def dijkstra(myGraph, start, end):\n",
    "    shortestPaths = {start: (None, 0)}\n",
    "    currentVertex = start\n",
    "    visited = set()\n",
    "    while currentVertex != end:\n",
    "        visited.add(currentVertex)\n",
    "        destinations = graph.edges[currentVertex]\n",
    "        weightToCurrentVertex = shortestPaths[currentVertex][1]\n",
    "        for nextVertex in destinations:\n",
    "            weight = graph.weights[(currentVertex, nextVertex)] + weightToCurrentVertex\n",
    "            if nextVertex not in shortestPaths:\n",
    "                shortestPaths[nextVertex] = (currentVertex, weight)\n",
    "            else:\n",
    "                currentShortestWeight = shortestPaths[nextVertex][1]\n",
    "                if currentShortestWeight > weight:\n",
    "                    shortestPaths[nextVertex] = (currentVertex, weight)        \n",
    "        nextDestinations = {vertex: shortestPaths[vertex] for vertex in shortestPaths if vertex not in visited}\n",
    "        if not nextDestinations:\n",
    "            return 0\n",
    "        currentVertex = min(nextDestinations, key=lambda k: nextDestinations[k][1])\n",
    "    path = []\n",
    "    while currentVertex is not None:\n",
    "        path.append(currentVertex)\n",
    "        nextVertex = shortestPaths[currentVertex][0]\n",
    "        currentVertex = nextVertex\n",
    "    path = path[: : -1]\n",
    "    distance = 0\n",
    "    for i in range(len(path)-1):\n",
    "        distance+=graph.weights[(path[i], path[i+1])]\n",
    "    return distance\n",
    "\n",
    "# This function gives us the sum of the shortest paths between both graphs\n",
    "def sumpathes(graph ,n ):\n",
    "    totalldistance = 0\n",
    "    for i in range(1, n+1):\n",
    "        for j in range(i+1, n+1):\n",
    "            totalldistance+= dijkstra(graph , i , j)\n",
    "    return totalldistance\n",
    "\n",
    "\n",
    "# create graph\n",
    "graph = Graph()\n",
    "edges = []\n",
    "\n",
    "N, M = map(int, input().split())\n",
    "\n",
    "for i in range(M):\n",
    "    Ai , Bi , ci = map(int, input().split())\n",
    "    edges.append((Ai , Bi , 2**ci))\n",
    "    \n",
    "for edge in edges:\n",
    "    graph.addEdge(*edge)\n",
    "    \n",
    "# print result\n",
    "print(\"{0:b}\".format(sumpathes(graph , N)))"
   ]
  },
  {
   "cell_type": "markdown",
   "id": "1b487225",
   "metadata": {
    "direction": "rtl"
   },
   "source": [
    "# 4\n",
    "این مسعله مانند مسعله bin packing میماند با محدودیت اینکه فقط دوتا جعبه داریم وظرفیت بسته ها یکسان برابر با زمانی که نگهبان بیرون است میباشد وزمان مورد نیاز برای هر دزد مانند ظرفیت یک بسته است که داخل جعبه ها قرار میگیرد. دوتا بودن جعبه ها نشان از این دارد  که در هر لجظه فقط دو نفر میتوانند در  سالن جاضر باشند\n",
    "الگوریتم شبیه به first fit اجرا میشود و تنها تفاوت  در این است که ورودی های که زمان دزد هاست را ابتدا سورت میکنیم\n",
    "حال  اولین زمان دزد را در جعبه زمانی اول میگذاریم و حجم را اپدیت میکنیم وهمینطور ادامه میدهیم تا ببینیم ایا تمام زمان ها قابل جا شدن در جعبه های زمانی ما هستن."
   ]
  },
  {
   "cell_type": "code",
   "execution_count": 220,
   "id": "26f7e92c",
   "metadata": {},
   "outputs": [
    {
     "name": "stdout",
     "output_type": "stream",
     "text": [
      "2\n",
      "3 4\n",
      "2 4 2\n",
      "3 2\n",
      "2 4 2\n",
      "YES\n",
      "NO\n"
     ]
    }
   ],
   "source": [
    "def SuccessfulRobbery(G,A):\n",
    "    #Direct conditions to reject success\n",
    "    if  sum(A) > 2*G :\n",
    "        return \"NO\"\n",
    "    if max(A) > G:\n",
    "        return \"NO\"\n",
    "    \n",
    "    A.sort(reverse=True)\n",
    "    G1_remining = G\n",
    "    G2_remining = G\n",
    "    \n",
    "    #Investigating the possibility of a condition that all thieves can succeed in stealing\n",
    "    for thiefTime in A:\n",
    "        if thiefTime <= G1_remining:\n",
    "            G1_remining -= thiefTime\n",
    "        elif thiefTime <= G2_remining:\n",
    "            G2_remining -= thiefTime\n",
    "        else:\n",
    "            return \"NO\"\n",
    "\n",
    "    return \"YES\"\n",
    "\n",
    "\n",
    "# resultests\n",
    "result=[]\n",
    "\n",
    "numberOfTest=int(input())\n",
    "# test\n",
    "for _ in range(numberOfTest):\n",
    "    N, G = map(int, input().split())\n",
    "    A = list(map(int, input().split()))\n",
    "    result.append(SuccessfulRobbery(G, A))\n",
    "\n",
    "#print result\n",
    "for i in result:\n",
    "    print( i )\n"
   ]
  }
 ],
 "metadata": {
  "direction": "ltr",
  "kernelspec": {
   "display_name": "Python 3 (ipykernel)",
   "language": "python",
   "name": "python3"
  },
  "language_info": {
   "codemirror_mode": {
    "name": "ipython",
    "version": 3
   },
   "file_extension": ".py",
   "mimetype": "text/x-python",
   "name": "python",
   "nbconvert_exporter": "python",
   "pygments_lexer": "ipython3",
   "version": "3.9.13"
  }
 },
 "nbformat": 4,
 "nbformat_minor": 5
}
