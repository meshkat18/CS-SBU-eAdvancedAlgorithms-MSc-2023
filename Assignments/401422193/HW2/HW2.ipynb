{
 "cells": [
  {
   "cell_type": "markdown",
   "id": "9c1b4a11",
   "metadata": {},
   "source": [
    "<p dir=\"rtl\" style=\"white-space:pre-wrap\">\n",
    "\n",
    "**به نام یگانه برنامه نویس عالم**<br>\n",
    "الگوریتم های پیشرفته<br>\n",
    "استاد فراهانی\n",
    "  \n",
    "# [تمرین 2](https://github.com/Sarach-git/CS-SBU-eAdvancedAlgorithms-MSc-2023/blob/main/Assignments/Homework/Homework_2.pdf)\n",
    "\n",
    "دستیار آموزشی:     سرکار خانم چرمچی<br>\n",
    "کد ، نام دانشجو:     (401422193 ، معین ورکیانی)\n",
    "\n",
    "</p>"
   ]
  },
  {
   "cell_type": "markdown",
   "id": "7e24690d",
   "metadata": {},
   "source": [
    "<div dir=\"rtl\" style=\"white-space:pre-wrap\">\n",
    "\n",
    "## سوال 1\n",
    "### 1.1\n",
    "\n",
    "در رویکرد غیر هوشمندانه، ما نیاز به بررسی تمامی حالت های ممکن داریم؛ در نتیجه با توجه به اینکه تعداد انتخاب ها (نوبت ها) برابر با تعداد مهره ها است و در هر نوبت هر شخص دو گزینه متفاوت دارد و در مجموع 4 حالت ممکن ست پیش بیاید، نیازمند فراخوانی بازگشتی خواهیم بود تا پاسخ هر شیوه انتخاب مهره ها را محاسبه کرده و ذخیره کنیم. در نهایت با جستجو بر روی مقادیر پاسخ ها، بهترین پاسخ را میابیم.\n",
    "با توجه به اینکه در هر نوبت دو حالت برای انتخاب وجود دارد، پیچیدگی زمانی الگوریتم از مرتبه $O(2^n)$ خواهد بود.   \n",
    "### 1.2\n",
    "\n",
    "با توجه به اینکه هر بازیکن در نوبت خود به صورت بهینه باید انتخاب کند، حریف هموار انتخاب هایی خواهد کرد که در نوبت ما، حداقل امتیاز را کسب کنیم.<br>\n",
    "دو انتخاب وجود دارد:\n",
    "   \n",
    "1. کاربر سکه `i`ام را با مقدار $V_i$ انتخاب می کند: حریف یا `(i+1)`مین سکه یا سکه `j`ام را انتخاب می کند. حریف قصد دارد سکه ای را انتخاب کند که حداقل ارزش را برای کاربر باقی می گذارد. به عنوان مثال، کاربر می تواند مقدار $V_i + min (F(i+2, j), F(i+1, j-1))$ را جمع آوری کند که در آن `[i+2,j]` ایندکس آرایه در دسترس کاربر است اگر حریف $V_{i+1}$ را انتخاب می کند و `[i+1,j-1]` محدوده ایندکس‌های آرایه در دسترس است اگر حریف سکه `j`ام را انتخاب کند.\n",
    "2. کاربر سکه `j`ام را با مقدار $V_j$ انتخاب می کند: حریف یا سکه `i`ام یا `j-1`ام را انتخاب می کند. حریف قصد دارد سکه‌ای را انتخاب کند که حداقل مقدار را برای کاربر باقی می‌گذارد، یعنی کاربر می‌تواند مقدار $V_j + min(F(i+1, j-1), F(i, j-2))$ را در جایی جمع‌آوری کند که `[i,j-2]`محدوده ایندکس‌های آرایه‌ای است که در صورتی که حریف سکه `j`ام را انتخاب کند برای کاربر در دسترس است و `[i+1,j-1]`محدوده ایندکس‌هایی است که در صورتی که حریف سکه `i`ام را انتخاب کند در دسترس کاربر است.\n",
    "    \n",
    "    از آنجایی که همان زیر-مسائل مجددا فراخوانی می شوند، این مشکل دارای ویژگی همپوشانی زیر-مسائل است. بنابراین می توان با ساختن یک آرایه موقت در برنامه نویسی پویا به روش پایین به بالا با استفاده از فرمول بازگشتی زیر از محاسبات مجدد همان مسائل فرعی اجتناب کرد.\n",
    "### 1.3\n",
    "\n",
    "الگوریتم با پر کردن یک جدول با پاسخ های بهینه برای مسائل فرعی کوچکتر کار می کند. به عنوان مثال، اگر روی زیرآرایه ای کار می کنیم که فقط یک مهره دارد، پاسخ بهینه امتیاز آن مهره است. اگر روی زیرآرایه ای کار می کنیم که دو مهره دارد، پاسخ بهینه، حداکثر مقدار دو مهره است. ما زیرآرایه ها را گسترش می دهیم و از نتایج مسائل فرعی کوچکتر برای ساختن پاسخ بهینه برای مسائل فرعی بزرگتر استفاده می کنیم. در نهایت، پاسخ بهینه برای کل آرایه (`n*n`) در سطر اول و آخرین ستون جدول ذخیره می شود.\n",
    "در نتیجه پیچیدگی زمانی این الگورتم از مرتبه $O(n^2)$ خواهد بود.\n",
    "### **1.4 پیاده سازی در پایتون**\n",
    "\n",
    "</div>"
   ]
  },
  {
   "cell_type": "code",
   "execution_count": 21,
   "id": "7efb7b15",
   "metadata": {},
   "outputs": [
    {
     "name": "stdout",
     "output_type": "stream",
     "text": [
      "10 80 90 30\n",
      "110 RRRR\n"
     ]
    }
   ],
   "source": [
    "#Function to find the maximum possible score we can win.\n",
    "class Solution:\n",
    "  def GamePlan(self,arr, n):\n",
    "    temp=[[0 for i in range(n)]for j in range(n)]\n",
    "    moves=[[\"\" for i in range(n)]for j in range(n)]\n",
    "    def solve(ind1,ind2):\n",
    "        if ind1>ind2:\n",
    "            return 0, \"\"\n",
    "        if (temp[ind1][ind2]!=-1)&(moves[ind1][ind2]!=\"\"):\n",
    "            return temp[ind1][ind2],moves[ind1][ind2]\n",
    "        if ind1==ind2:\n",
    "            moves[ind1][ind2]+=\"L\" if ind1<=(n-1)//2 else \"R\"\n",
    "            return arr[ind1],moves[ind1][ind2]\n",
    "        take_start=arr[ind1]\n",
    "        score1, move11=solve(ind1+2,ind2)\n",
    "        score2, move12=solve(ind1+1,ind2-1)\n",
    "        if score1+arr[ind1]>score2+arr[ind2]:\n",
    "            take_start+=score2\n",
    "            move11=f\"R{move12}\"\n",
    "        else:\n",
    "            take_start+=score1\n",
    "            move11=f\"L{move11}\"\n",
    "        take_last=arr[ind2]\n",
    "        score1, move21=solve(ind1+1,ind2-1)\n",
    "        score2, move22=solve(ind1,ind2-2)\n",
    "        if score1+arr[ind2]>score2+arr[ind1]:\n",
    "            take_last+=score2\n",
    "            move21=f\"R{move22}\"\n",
    "        else:\n",
    "            take_last+=score1\n",
    "            move21=f\"L{move21}\"\n",
    "            \n",
    "        if take_start>take_last:\n",
    "            ans= take_start\n",
    "            moves[ind1][ind2]=f\"L{move11}\"\n",
    "        else:\n",
    "            ans=take_last\n",
    "            moves[ind1][ind2]=f\"R{move21}\"\n",
    "        temp[ind1][ind2]=ans\n",
    "        return ans, moves[ind1][ind2]    \n",
    "    res,moves = solve(0,n-1)\n",
    "    return res,moves\n",
    "\n",
    "def main():\n",
    "    beads = list(map(int, input().split()))\n",
    "    ans=Solution()\n",
    "    score, moves=ans.GamePlan(beads,len(beads))\n",
    "    print(score, moves)\n",
    "    \n",
    "if __name__ == \"__main__\":\n",
    "    main()"
   ]
  },
  {
   "cell_type": "markdown",
   "id": "4d4760b0",
   "metadata": {},
   "source": [
    "<div dir=\"rtl\" style=\"white-space:pre-wrap\">\n",
    "\n",
    "## سوال 2\n",
    "\n",
    "### داده ها\n",
    "    \n",
    "- `n`: حداکثر مسافتی که خودرو با باک پر می تواند طی کند\n",
    "- `cities`: لیستی از شهرهای مسیر تبریز به زاهدان\n",
    "\n",
    "### توضیح الگوریتم    \n",
    "    \n",
    "1. متغیر `Current_position` را در شهر شروع (تبریز) مقداردهی کنید و به لیست خالی `refill_stops` وارد کنید.\n",
    "2. تا زمانی که `Current_position` با شهر مقصد زاهدان برابر نیست، موارد زیر را انجام دهید:\n",
    "    - فرض کنید `farthest_city` شهر قبلی در لیست باشد که از موقعیت فعلی بدون پر کردن مخزن قابل دسترسی است، یعنی دورترین `city` در `cities` به طوری که فاصله بین `Current_position` و شهر کمتر یا مساوی `n` باشد.\n",
    "    - اگر `farthest_city`=`None` باشد، خودرو نمی تواند به شهر مقصد برسد و الگوریتم خاتمه می یابد.\n",
    "    - در غیر این صورت `farthest_city` را به `refill_stops` اضافه کنید و `Current_position` را روی `farthest_city` قرار دهید\n",
    "3. `refill_stops` را بازگردانید.\n",
    "\n",
    "\n",
    "فرض کنید $P$ موقعیت فعلی، $x$ و $y$ دو شهر متوالی در لیست شهرها و $d(x, y)$ فاصله بین $x$ و $y$ باشد و $f(x)$ دورترین شهر قابل دسترسی از $x$ بدون پر کردن مخزن باشد، یعنی دورترین شهر در شهرها به طوری که فاصله بین $x$ و شهر کمتر یا مساوی $n$ باشد.\n",
    "\n",
    "- قضیه: پر کردن مخزن در شهر $y$ بدتر از پر کردن مجدد آن در شهر $x$ نیست.\n",
    "- اثبات: \n",
    "    1. فرض کنید در شهر $P$ هستیم و باید از طریق شهرهای $x$ و $y$ از $P$ به زاهدان سفر کنیم. فرض کنید $P'$ موقعیتی باشد که پس از پر کردن مخزن در شهر $x$ به آن می‌رسیم. سپس داریم:<br>\n",
    "        + $d(P, x) <= n$: می توانیم از $P$ به $x$ بدون پر کردن مجدد مخزن حرکت کنیم<br>\n",
    "        + $d(x,y) <= n$: می توانیم از $x$ به $y$ بدون پر کردن مجدد مخزن سفر کنیم<br>\n",
    "        + $d(y, P') <= n$: می توانیم از $y$ به $P'$ بدون پر کردن مجدد مخزن سفر کنیم\n",
    "    2. از سوی دیگر، اگر مخزن را در شهر $y$ دوباره پر کنیم، می‌توانیم از $P$ به $y$ بدون پر کردن مجدد سفر کنیم و $f(y)$ دورترین شهری است که می‌توانیم از $y$ بدون پر کردن مجدد به آن برسیم. بنابراین، داریم:\n",
    "        + $d(P, x) + d(x, y) + d(y, P') <= 3n$\n",
    "        + $d(P, y) + d(y, f(y)) <= 2n$\n",
    "        + $d(P, y) <= d(P, x) + d(x, y)$ و $f(y) <= P'$ \n",
    "        + $d(P, y) + d(y, f(y)) <= d(P, x) + d(x, y) + d(y, P')$\n",
    "    \n",
    "بنابراین، پر کردن مخزن در شهر $y$ بدتر از پر کردن مجدد آن در شهر $x$ نیست. این امر اثبات را کامل می کند و رویکرد حریصانه انتخاب دورترین شهر قابل دسترس در هر مرحله از الگوریتم را توجیه می کند.\n",
    "\n",
    "</div>"
   ]
  },
  {
   "cell_type": "markdown",
   "id": "4bfcf941",
   "metadata": {},
   "source": [
    "<div dir=\"rtl\" style=\"white-space:pre-wrap\">\n",
    "\n",
    "## سوال 3\n",
    "\n",
    "برای حل این مسئله، می‌توان از الگوریتم فلویید-وارشال (`Floyd-Warshall`) استفاده کرد. در این الگوریتم، ابتدا یک ماتریس فاصله‌ها ایجاد می‌شود که در ابتدا، مقدار بین هر دو شهر برابر با فاصله بین آن دو شهر است. سپس در هر مرحله، تمامی مسیرهای ممکن برای رسیدن به شهرهای مختلف ترکیب و با مسیرهای دیگری که قبلاً به دست آمده‌اند، مقایسه می‌شوند. به این صورت که اگر مسیر جدید کوتاه‌تر از مسیر قبلی بین دو شهر باشد، مقدار ماتریس فاصله به روزرسانی می‌شود. بعد از اتمام این مراحل، ماتریس فاصله‌های کوتاه‌ترین مسیرها بین هر دو شهر به دست می‌آید.\n",
    "\n",
    "### پیاده سازی در پایتون    \n",
    "\n",
    "</div>"
   ]
  },
  {
   "cell_type": "code",
   "execution_count": 1,
   "id": "4ad05c3a",
   "metadata": {},
   "outputs": [
    {
     "name": "stdout",
     "output_type": "stream",
     "text": [
      "3 3\n",
      "1 2 0\n",
      "1 3 3\n",
      "2 3 2\n",
      "1010\n"
     ]
    }
   ],
   "source": [
    "# import pandas as pd\n",
    "\n",
    "INF = float('inf')\n",
    "\n",
    "def MinDist(n, dist):\n",
    "    for k in range(n):\n",
    "        for i in range(n):\n",
    "            for j in range(n):\n",
    "                dist[i][j] = min(dist[i][j], dist[i][k] + dist[k][j])\n",
    "    return dist\n",
    "\n",
    "n, m = map(int, input().split())\n",
    "dist = [[INF for _ in range(n)] for _ in range(n)]\n",
    "\n",
    "for _ in range(m):\n",
    "    u, v, w = map(int, input().split())\n",
    "    dist[u-1][v-1] = dist[v-1][u-1] = 2 ** w\n",
    "\n",
    "distances = MinDist(n, dist)\n",
    "total_dist = 0\n",
    "for i in range(n):\n",
    "    for j in range(i + 1, n):\n",
    "        total_dist += distances[i][j]\n",
    "\n",
    "# output = pd.DataFrame({\n",
    "#     'Total Distance': [total_dist, \"{0:b}\".format(total_dist)]\n",
    "# }, index=['Decimal', 'Binary'])\n",
    "\n",
    "print(\"{0:b}\".format(total_dist))"
   ]
  },
  {
   "cell_type": "markdown",
   "id": "4c7d23ff",
   "metadata": {},
   "source": [
    "<div dir=\"rtl\" style=\"white-space:pre-wrap\">\n",
    "\n",
    "## سوال 4\n",
    "\n",
    "برای حل این مشکل، می‌توانیم چندین شرط را بررسی کنیم تا مشخص شود که آیا ممکن است سارقان بدون دستگیر شدن، سرقت‌های خود را تکمیل کنند یا خیر. می توانیم از دستور if برای بررسی شرایط زیر استفاده کنیم:\n",
    "\n",
    "- بررسی کنید که آیا تعداد سارقان، N، بیشتر از 2 برابر زمان غیبت نگهبان، G، است. اگر چنین است، امکان ندارد بیش از 2 سارق در طول G دقیقه داخل سالن باشند.\n",
    "- بررسی کنید که آیا دزدی وجود دارد که به زمان بیشتری از زمان غیبت نگهبان نیاز دارد یا خیر.\n",
    "- بررسی کنید که آیا حداکثر زمان مورد نیاز در بین سارقان کمتر یا مساوی با زمان غیبت نگهبان G و تعداد سارقان کمتر یا مساوی 2 است. اگر هر دو شرط برآورده شود، همه سارقان می توانند سرقت های خود را در غیاب نگهبان انجام دهند.\n",
    "    \n",
    "در صورت احراز هیچ یک از شرایط فوق، می توان دستور سرقتی را داشت که شرایط داده شده را داشته باشد.\n",
    "\n",
    "</div>"
   ]
  },
  {
   "cell_type": "code",
   "execution_count": 6,
   "id": "b85ee6e6",
   "metadata": {},
   "outputs": [
    {
     "name": "stdout",
     "output_type": "stream",
     "text": [
      "2\n",
      "3 4\n",
      "2 4 2\n",
      "3 2\n",
      "2 4 2\n",
      "YES\n",
      "NO\n"
     ]
    }
   ],
   "source": [
    "def Success(N, G, A):\n",
    "    max_time = max(A)\n",
    "    if max_time <= G and N <= 2:\n",
    "        return \"YES\"\n",
    "    if N > 2 * (G + 1):\n",
    "        return \"NO\"\n",
    "    if max_time > G:\n",
    "        return \"NO\"\n",
    "    return \"YES\"\n",
    "\n",
    "thefts = int(input())\n",
    "result = []\n",
    "\n",
    "for _ in range(thefts):\n",
    "    N, G = map(int, input().split())\n",
    "    A = list(map(int, input().split()))\n",
    "    result.append(Success(N, G, A))\n",
    "\n",
    "for i in range(len(result)):\n",
    "    print(result[i])"
   ]
  }
 ],
 "metadata": {
  "kernelspec": {
   "display_name": "Python 3 (ipykernel)",
   "language": "python",
   "name": "python3"
  },
  "language_info": {
   "codemirror_mode": {
    "name": "ipython",
    "version": 3
   },
   "file_extension": ".py",
   "mimetype": "text/x-python",
   "name": "python",
   "nbconvert_exporter": "python",
   "pygments_lexer": "ipython3",
   "version": "3.11.3"
  }
 },
 "nbformat": 4,
 "nbformat_minor": 5
}
